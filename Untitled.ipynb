{
 "cells": [
  {
   "cell_type": "code",
   "execution_count": 1,
   "metadata": {},
   "outputs": [],
   "source": [
    "text_path = \"Apna Time Aayega.txt\"\n",
    "def load_text(filename):\n",
    "    with open(filename,encoding='utf8') as f:\n",
    "        return f.read().lower()\n",
    "    \n",
    "text = load_text(text_path)\n"
   ]
  },
  {
   "cell_type": "code",
   "execution_count": 2,
   "metadata": {},
   "outputs": [
    {
     "data": {
      "text/plain": [
       "'apna time aayega\\nuth ja apni raakh se\\ntu udd ja ab talaash mein\\nparwaaz dekh parwane ki\\naasman bhi sar uthayega\\naayega apna time aayega\\nmere jaisa shaana lala\\ntujhe na mil payega\\n \\nyeh shabdon ka jwala\\nmeri bediyan pighlayega\\njitna toone boya hai tu\\nutna hi to khaayega\\naisa mera khwaab hai\\njo darr ko bhi satayega\\nzinda mera khwaab\\nab kaise tu dafnayega\\n \\nab hausle se jeene de\\nab khauf nahi hai seene mein\\nhar raaste ko cheerenge\\nhum kaamyabi chheenenge\\nsab kuchh mila paseene se\\nmatlab bana ab jeene mein\\n \\nkyon\\nkyon ki apna time aayega\\n \\ntu nanga hi to aaya hai\\nkya ghanta lekar jaayega\\napna time aayega\\napna time aayega\\napna time aayega x (2)\\n \\ntu nanga hi to aaya hai\\nkya ghanta lekar..\\n \\nkissi ka hath nahi tha sar par\\nyahaan par aaya khud ki mehnat se main\\njitni taakat kismat mein nahi\\nutni rehmat mein hai\\nphir bhi ladka sehmat nahin hai\\nkyon ki hairat nahi hai\\nzaroorat yahaan marzi ki\\naur jurrat ki hai\\n \\ntaakat ki hai, aafat ki\\nhimaakat ki, ibaadat ki\\nadalat yeh hai chahat ki\\nmohobbat ki, amaanat ki\\njeetne ki ab aadat ki hai\\nshohrat ki ab laalach nai hai\\ntere bhai jaisa koyi hard’ch nai hai\\n \\niss harkat ne hi barkat di hai\\nkyon?\\n \\ntu nanga hi to aaya hai\\nkya ghanta lekar jaayega\\napna time aayega\\napna time aayega\\napna time aayega\\n \\ntu nanga hi to aaya hai\\nkya ghanta lekar jaayega\\nkya tu ghanta lekar jaayega\\napna time aayega\\napna time aayega'"
      ]
     },
     "execution_count": 2,
     "metadata": {},
     "output_type": "execute_result"
    }
   ],
   "source": [
    "text"
   ]
  },
  {
   "cell_type": "code",
   "execution_count": 3,
   "metadata": {},
   "outputs": [],
   "source": [
    "def generateTable(data,k=4):\n",
    "    \n",
    "    T = {}\n",
    "    for i in range(len(data)-k):\n",
    "        X = data[i:i+k]\n",
    "        Y = data[i+k]\n",
    "        #print(\"X  %s and Y %s  \"%(X,Y))\n",
    "        \n",
    "        if T.get(X) is None:\n",
    "            T[X] = {}\n",
    "            T[X][Y] = 1\n",
    "        else:\n",
    "            if T[X].get(Y) is None:\n",
    "                T[X][Y] = 1\n",
    "            else:\n",
    "                T[X][Y] += 1\n",
    "    \n",
    "    return T"
   ]
  },
  {
   "cell_type": "code",
   "execution_count": 4,
   "metadata": {},
   "outputs": [],
   "source": [
    "def convertFreqIntoProb(T):     \n",
    "    for kx in T.keys():\n",
    "        s = float(sum(T[kx].values()))\n",
    "        for k in T[kx].keys():\n",
    "            T[kx][k] = T[kx][k]/s\n",
    "                \n",
    "    return T"
   ]
  },
  {
   "cell_type": "code",
   "execution_count": 5,
   "metadata": {},
   "outputs": [],
   "source": [
    "def trainMarkovChain(text,k=4):\n",
    "    \n",
    "    T = generateTable(text,k)\n",
    "    T = convertFreqIntoProb(T)\n",
    "    \n",
    "    return T"
   ]
  },
  {
   "cell_type": "code",
   "execution_count": 6,
   "metadata": {},
   "outputs": [],
   "source": [
    "import numpy as np"
   ]
  },
  {
   "cell_type": "code",
   "execution_count": 7,
   "metadata": {},
   "outputs": [],
   "source": [
    "model = trainMarkovChain(text)\n",
    "def sample_next(ctx,T,k):\n",
    "    ctx = ctx[-k:]\n",
    "    if T.get(ctx) is None:\n",
    "        return \" \"\n",
    "    possible_Chars = list(T[ctx].keys())\n",
    "    possible_values = list(T[ctx].values())\n",
    "    \n",
    "    #print(possible_Chars)\n",
    "    #print(possible_values)\n",
    "    \n",
    "    return np.random.choice(possible_Chars,p=possible_values)"
   ]
  },
  {
   "cell_type": "code",
   "execution_count": 8,
   "metadata": {},
   "outputs": [],
   "source": [
    "def generateText(starting_sent,k=4,maxLen=1000):\n",
    "    \n",
    "    sentence = starting_sent\n",
    "    ctx = starting_sent[-k:]\n",
    "    \n",
    "    for ix in range(maxLen):\n",
    "        next_prediction = sample_next(ctx,model,k)\n",
    "        sentence += next_prediction\n",
    "        ctx = sentence[-k:]\n",
    "    return sentence"
   ]
  },
  {
   "cell_type": "code",
   "execution_count": 9,
   "metadata": {},
   "outputs": [
    {
     "name": "stdout",
     "output_type": "stream",
     "text": [
      "apna time aaya hath nahi\n",
      "utna hi to aaya hai seene se\n",
      "matlab bana lala\n",
      "mere bhai tu\n",
      "utna time aaya hai\n",
      "phir bhi satayega\n",
      "zinda mera khud ki hai, amaana lala\n",
      "tujhe na mila paseene se jeenenge\n",
      "sab kuchh mil payega\n",
      "jitni rehmat mein\n",
      "har raakh se\n",
      "tu nanga hi to khauf nahin hai jaisa koyi hai seene mein nahi hai\n",
      "kyon ki ab laalach nai hai\n",
      "kya ghanta lekar jaayega\n",
      "kya tu dafnayega\n",
      "apna time aayega\n",
      "kya tu ghanta lekar..\n",
      " \n",
      "kyon\n",
      "kyon ka hai\n",
      "kya ghanta lekar jaayega\n",
      "apna time aayega\n",
      "zinda mera khwaab hai chheene mein\n",
      " \n",
      "kyon ki hai jaisa shaan pighlayega\n",
      "jitni taakat ne hi barkat ki mehnat ki, amaana ab talaash mein\n",
      "parwane ki hai\n",
      "jo darr ko bhi ladka sehmat mein nahi\n",
      "utna hi to khaayega\n",
      " \n",
      "yeh shabdon ka hai\n",
      "zaroorat ki\n",
      "himaakat di hairat ki, ibaadat ki hai\n",
      "kya ghanta lekar jaayega\n",
      "apna time aayega\n",
      " \n",
      "tu nanga hi barkat ki\n",
      "adalat yahaan par\n",
      "yahaan marzi ki\n",
      "jeetne ki\n",
      "jeetne ki mehnat se main\n",
      "jitna hi to aayega\n",
      " \n",
      "ab hai\n",
      "kya tu dafnayega\n",
      "mere jaisa mera khud ki hai\n",
      "kya ghanta lekar jaayega\n",
      "kya tu ghanta lekar..\n",
      " \n",
      "kissi ka hai\n",
      "kya ghanta lekar..\n",
      " \n",
      "kissi ka jwala\n",
      "meri bediyan parwaaz dekh par aaya hai\n",
      "kya ghanta lekar jaayega\n",
      "aayega\n",
      "apna time aayega\n",
      "aayega\n",
      "apna time aaya hath nai hai\n",
      "zaroorat ki\n",
      "mohobbat ki, aafat ki hai jaisa shaanat ki\n",
      "aur jurrat yahaan marzi ki\n",
      "adalat yeh shabdon ki ab aadat ki apna time aaya khwaab\n",
      "ab kaise tu ghanta lekar jaayega\n",
      "uth ja ab jeene mein hai\n",
      "phir bhi sar uthayega\n",
      " \n",
      "taakat ki\n",
      "himaakat ki mehnat se main\n",
      "jitna time aayega\n",
      "apna time aayega\n",
      "apna time aaya hai\n",
      " \n",
      "iss hard’ch nai hai\n",
      "kyon\n",
      "kyon\n",
      "kyon\n",
      "kyon ki mehnat se main\n",
      "jitna time aayega\n",
      "apna toone boya hai\n",
      "kyon ka jwala\n",
      "mere jaisa shaan pighlayega\n",
      "zinda mera khud ki ab talaash mein\n",
      "parwaaz dekh par\n",
      "yahaan pighlayega\n",
      "apna time aayega\n",
      " \n",
      "ab kuchh mil payega\n",
      "aisa mera khwaab\n",
      "ab kuchh mila paseene mein hai\n",
      "shohrat ki ab aadat ki\n",
      "adalat yahaana ab aadat ki\n",
      "mohobbat ki apna time aayega\n",
      "zinda mera khwaab hausle se main\n",
      "jitni taakat ne hi tha sar uthayega\n",
      "meri bediyan pighlayega\n",
      " \n",
      "tu nanga hi to aaya hai\n",
      "phir bhi lad\n"
     ]
    }
   ],
   "source": [
    "np.random.seed(11)\n",
    "text = generateText(\"apna\",k=4,maxLen=2000)\n",
    "\n",
    "\n",
    "print(text)"
   ]
  },
  {
   "cell_type": "code",
   "execution_count": 10,
   "metadata": {},
   "outputs": [],
   "source": [
    "f=open(\"mfile.txt\",\"w\",encoding=\"utf-8\")"
   ]
  },
  {
   "cell_type": "code",
   "execution_count": 11,
   "metadata": {},
   "outputs": [
    {
     "data": {
      "text/plain": [
       "2004"
      ]
     },
     "execution_count": 11,
     "metadata": {},
     "output_type": "execute_result"
    }
   ],
   "source": [
    "f.write(text)"
   ]
  },
  {
   "cell_type": "code",
   "execution_count": 12,
   "metadata": {},
   "outputs": [],
   "source": [
    "f.close()"
   ]
  },
  {
   "cell_type": "code",
   "execution_count": 13,
   "metadata": {},
   "outputs": [],
   "source": [
    "a=\"mango\""
   ]
  },
  {
   "cell_type": "code",
   "execution_count": 14,
   "metadata": {},
   "outputs": [
    {
     "data": {
      "text/plain": [
       "'mango'"
      ]
     },
     "execution_count": 14,
     "metadata": {},
     "output_type": "execute_result"
    }
   ],
   "source": [
    "a[-5:]"
   ]
  },
  {
   "cell_type": "code",
   "execution_count": null,
   "metadata": {},
   "outputs": [],
   "source": []
  }
 ],
 "metadata": {
  "kernelspec": {
   "display_name": "Python 3",
   "language": "python",
   "name": "python3"
  },
  "language_info": {
   "codemirror_mode": {
    "name": "ipython",
    "version": 3
   },
   "file_extension": ".py",
   "mimetype": "text/x-python",
   "name": "python",
   "nbconvert_exporter": "python",
   "pygments_lexer": "ipython3",
   "version": "3.7.3"
  }
 },
 "nbformat": 4,
 "nbformat_minor": 2
}
